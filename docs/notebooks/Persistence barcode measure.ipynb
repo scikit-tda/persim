{
 "cells": [
  {
   "cell_type": "markdown",
   "metadata": {},
   "source": [
    "# Finding significant difference with persistent entropy"
   ]
  },
  {
   "cell_type": "code",
   "execution_count": 1,
   "metadata": {},
   "outputs": [],
   "source": [
    "import numpy as np\n",
    "import ripser\n",
    "import matplotlib.pyplot as plt\n",
    "from persim.persistent_entropy import *\n",
    "from scipy import stats"
   ]
  },
  {
   "cell_type": "code",
   "execution_count": 2,
   "metadata": {},
   "outputs": [],
   "source": []
  },
  {
   "cell_type": "markdown",
   "metadata": {},
   "source": [
    "This notebook shows how persistent entropy can be used to find significant difference in the geometrical distribution of the data. We will distinguish point clouds following a normal distribution from point clouds following a uniform distribution. Persistent entropy allow to use a one dimensional non-parametric statistical test instead of a multivariative test."
   ]
  },
  {
   "cell_type": "markdown",
   "metadata": {},
   "source": [
    "## Construct the data\n",
    "We will generate a sample of 20 point clouds, 10 following a normal distribution and 10 following the uniform one. Each point cloud is 2D and have 50 points."
   ]
  },
  {
   "cell_type": "code",
   "execution_count": 3,
   "metadata": {
    "scrolled": true
   },
   "outputs": [],
   "source": [
    "# Normal point clouds\n",
    "mu = 0.5\n",
    "sigma = 0.25\n",
    "l1 = []\n",
    "for i in range(10):\n",
    "    d1 = np.random.normal(mu, sigma, (50, 2))\n",
    "    l1.append(d1)\n",
    "# Uniform point clouds\n",
    "l2 = []\n",
    "for i in range(10):\n",
    "    d2 = np.random.random((50, 2))\n",
    "    l2.append(d2)"
   ]
  },
  {
   "cell_type": "code",
   "execution_count": 4,
   "metadata": {},
   "outputs": [
    {
     "data": {
      "image/png": "[encoded data removed]",
      "text/plain": [
       "<Figure size 432x288 with 1 Axes>"
      ]
     },
     "metadata": {
      "needs_background": "light"
     },
     "output_type": "display_data"
    }
   ],
   "source": [
    "# Example of normal and uniform point clouds\n",
    "plt.scatter(d1[:, 0], d1[:, 1], label=\"Normal distribution\")\n",
    "plt.scatter(d2[:, 0], d2[:, 1], label=\"Uniform distribution\")\n",
    "plt.axis(\"equal\")\n",
    "plt.legend()\n",
    "plt.show()"
   ]
  },
  {
   "cell_type": "markdown",
   "metadata": {},
   "source": [
    "## Calculate persistent entropy \n",
    "In order to calculate persistent entropy, is necessary to generate the persistent diagrams previously. Note that we do not consider the infinity bar in the computation of persistent entropy since it does not give information about the point cloud. "
   ]
  },
  {
   "cell_type": "code",
   "execution_count": 5,
   "metadata": {},
   "outputs": [],
   "source": [
    "# Generate the persistent diagrams using ripser\n",
    "p = 0\n",
    "dgm_d1 = []\n",
    "dgm_d2 = []\n",
    "for i in range(len(l1)):\n",
    "    dgm_d1.append(ripser.ripser(l1[i])[\"dgms\"][p])\n",
    "    dgm_d2.append(ripser.ripser(l2[i])[\"dgms\"][p])\n",
    "# Calculate their persistent entropy.\n",
    "e1 = persistent_entropy(dgm_d1)\n",
    "e2 = persistent_entropy(dgm_d2)"
   ]
  },
  {
   "cell_type": "markdown",
   "metadata": {},
   "source": [
    "## Statistical test\n",
    "Finally, perform the statistical test which suits better for your aim. In our case, we perform the Mann–Whitney U test. You can claim there are differences in the geometry of both point clouds if the pvalue is smaller than the significance level α (usually α is 0.05)."
   ]
  },
  {
   "cell_type": "code",
   "execution_count": 6,
   "metadata": {},
   "outputs": [
    {
     "data": {
      "text/plain": [
       "MannwhitneyuResult(statistic=18.0, pvalue=0.008628728041559883)"
      ]
     },
     "execution_count": 6,
     "metadata": {},
     "output_type": "execute_result"
    }
   ],
   "source": [
    "stats.mannwhitneyu(e1, e2)"
   ]
  }
 ],
 "metadata": {
  "kernelspec": {
   "display_name": "persimenv",
   "language": "python",
   "name": "persimenv"
  },
  "language_info": {
   "codemirror_mode": {
    "name": "ipython",
    "version": 3
   },
   "file_extension": ".py",
   "mimetype": "text/x-python",
   "name": "python",
   "nbconvert_exporter": "python",
   "pygments_lexer": "ipython3",
   "version": "3.7.9"
  }
 },
 "nbformat": 4,
 "nbformat_minor": 2
}
